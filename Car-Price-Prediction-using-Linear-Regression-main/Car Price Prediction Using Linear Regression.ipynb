{
 "cells": [
  {
   "cell_type": "markdown",
   "id": "e68a3dc9",
   "metadata": {},
   "source": [
    "# Project: Car Price Prediction using Linear Regression"
   ]
  },
  {
   "cell_type": "markdown",
   "id": "3120518d",
   "metadata": {},
   "source": [
    "# Importing Important libraries"
   ]
  },
  {
   "cell_type": "code",
   "execution_count": 1,
   "id": "092580e3",
   "metadata": {},
   "outputs": [],
   "source": [
    "from warnings import filterwarnings\n",
    "filterwarnings(\"ignore\")\n",
    "import pandas as pd\n",
    "import numpy as np\n",
    "import seaborn as sb\n",
    "import matplotlib.pyplot as plt"
   ]
  },
  {
   "cell_type": "markdown",
   "id": "190362fc",
   "metadata": {},
   "source": [
    "# Read the dataset"
   ]
  },
  {
   "cell_type": "code",
   "execution_count": 2,
   "id": "cedf8265",
   "metadata": {},
   "outputs": [
    {
     "data": {
      "text/html": [
       "<div>\n",
       "<style scoped>\n",
       "    .dataframe tbody tr th:only-of-type {\n",
       "        vertical-align: middle;\n",
       "    }\n",
       "\n",
       "    .dataframe tbody tr th {\n",
       "        vertical-align: top;\n",
       "    }\n",
       "\n",
       "    .dataframe thead th {\n",
       "        text-align: right;\n",
       "    }\n",
       "</style>\n",
       "<table border=\"1\" class=\"dataframe\">\n",
       "  <thead>\n",
       "    <tr style=\"text-align: right;\">\n",
       "      <th></th>\n",
       "      <th>id</th>\n",
       "      <th>Manufacturer</th>\n",
       "      <th>Model</th>\n",
       "      <th>Type</th>\n",
       "      <th>Min.Price</th>\n",
       "      <th>Price</th>\n",
       "      <th>Max.Price</th>\n",
       "      <th>MPG.city</th>\n",
       "      <th>MPG.highway</th>\n",
       "      <th>AirBags</th>\n",
       "      <th>...</th>\n",
       "      <th>Passengers</th>\n",
       "      <th>Length</th>\n",
       "      <th>Wheelbase</th>\n",
       "      <th>Width</th>\n",
       "      <th>Turn.circle</th>\n",
       "      <th>Rear.seat.room</th>\n",
       "      <th>Luggage.room</th>\n",
       "      <th>Weight</th>\n",
       "      <th>Origin</th>\n",
       "      <th>Make</th>\n",
       "    </tr>\n",
       "  </thead>\n",
       "  <tbody>\n",
       "    <tr>\n",
       "      <th>0</th>\n",
       "      <td>1</td>\n",
       "      <td>Acura</td>\n",
       "      <td>Integra</td>\n",
       "      <td>Small</td>\n",
       "      <td>12.9</td>\n",
       "      <td>15.9</td>\n",
       "      <td>18.8</td>\n",
       "      <td>25</td>\n",
       "      <td>31</td>\n",
       "      <td>None</td>\n",
       "      <td>...</td>\n",
       "      <td>5</td>\n",
       "      <td>177</td>\n",
       "      <td>102</td>\n",
       "      <td>68</td>\n",
       "      <td>37</td>\n",
       "      <td>26.5</td>\n",
       "      <td>11.0</td>\n",
       "      <td>2705</td>\n",
       "      <td>non-USA</td>\n",
       "      <td>Acura Integra</td>\n",
       "    </tr>\n",
       "    <tr>\n",
       "      <th>1</th>\n",
       "      <td>2</td>\n",
       "      <td>Acura</td>\n",
       "      <td>Legend</td>\n",
       "      <td>Midsize</td>\n",
       "      <td>29.2</td>\n",
       "      <td>33.9</td>\n",
       "      <td>38.7</td>\n",
       "      <td>18</td>\n",
       "      <td>25</td>\n",
       "      <td>Driver &amp; Passenger</td>\n",
       "      <td>...</td>\n",
       "      <td>5</td>\n",
       "      <td>195</td>\n",
       "      <td>115</td>\n",
       "      <td>71</td>\n",
       "      <td>38</td>\n",
       "      <td>30.0</td>\n",
       "      <td>15.0</td>\n",
       "      <td>3560</td>\n",
       "      <td>non-USA</td>\n",
       "      <td>Acura Legend</td>\n",
       "    </tr>\n",
       "    <tr>\n",
       "      <th>2</th>\n",
       "      <td>3</td>\n",
       "      <td>Audi</td>\n",
       "      <td>90</td>\n",
       "      <td>Compact</td>\n",
       "      <td>25.9</td>\n",
       "      <td>29.1</td>\n",
       "      <td>32.3</td>\n",
       "      <td>20</td>\n",
       "      <td>26</td>\n",
       "      <td>Driver only</td>\n",
       "      <td>...</td>\n",
       "      <td>5</td>\n",
       "      <td>180</td>\n",
       "      <td>102</td>\n",
       "      <td>67</td>\n",
       "      <td>37</td>\n",
       "      <td>28.0</td>\n",
       "      <td>14.0</td>\n",
       "      <td>3375</td>\n",
       "      <td>non-USA</td>\n",
       "      <td>Audi 90</td>\n",
       "    </tr>\n",
       "    <tr>\n",
       "      <th>3</th>\n",
       "      <td>4</td>\n",
       "      <td>Audi</td>\n",
       "      <td>100</td>\n",
       "      <td>Midsize</td>\n",
       "      <td>30.8</td>\n",
       "      <td>37.7</td>\n",
       "      <td>44.6</td>\n",
       "      <td>19</td>\n",
       "      <td>26</td>\n",
       "      <td>NaN</td>\n",
       "      <td>...</td>\n",
       "      <td>6</td>\n",
       "      <td>193</td>\n",
       "      <td>106</td>\n",
       "      <td>70</td>\n",
       "      <td>37</td>\n",
       "      <td>31.0</td>\n",
       "      <td>17.0</td>\n",
       "      <td>3405</td>\n",
       "      <td>non-USA</td>\n",
       "      <td>Audi 100</td>\n",
       "    </tr>\n",
       "    <tr>\n",
       "      <th>4</th>\n",
       "      <td>5</td>\n",
       "      <td>BMW</td>\n",
       "      <td>535i</td>\n",
       "      <td>Midsize</td>\n",
       "      <td>23.7</td>\n",
       "      <td>30.0</td>\n",
       "      <td>36.2</td>\n",
       "      <td>22</td>\n",
       "      <td>30</td>\n",
       "      <td>Driver only</td>\n",
       "      <td>...</td>\n",
       "      <td>4</td>\n",
       "      <td>186</td>\n",
       "      <td>109</td>\n",
       "      <td>69</td>\n",
       "      <td>39</td>\n",
       "      <td>27.0</td>\n",
       "      <td>13.0</td>\n",
       "      <td>3640</td>\n",
       "      <td>non-USA</td>\n",
       "      <td>BMW 535i</td>\n",
       "    </tr>\n",
       "    <tr>\n",
       "      <th>5</th>\n",
       "      <td>6</td>\n",
       "      <td>Buick</td>\n",
       "      <td>Century</td>\n",
       "      <td>Midsize</td>\n",
       "      <td>14.2</td>\n",
       "      <td>15.7</td>\n",
       "      <td>17.3</td>\n",
       "      <td>22</td>\n",
       "      <td>31</td>\n",
       "      <td>Driver only</td>\n",
       "      <td>...</td>\n",
       "      <td>6</td>\n",
       "      <td>189</td>\n",
       "      <td>105</td>\n",
       "      <td>69</td>\n",
       "      <td>41</td>\n",
       "      <td>28.0</td>\n",
       "      <td>16.0</td>\n",
       "      <td>2880</td>\n",
       "      <td>USA</td>\n",
       "      <td>Buick Century</td>\n",
       "    </tr>\n",
       "    <tr>\n",
       "      <th>6</th>\n",
       "      <td>7</td>\n",
       "      <td>Buick</td>\n",
       "      <td>LeSabre</td>\n",
       "      <td>Large</td>\n",
       "      <td>19.9</td>\n",
       "      <td>20.8</td>\n",
       "      <td>21.7</td>\n",
       "      <td>19</td>\n",
       "      <td>28</td>\n",
       "      <td>Driver only</td>\n",
       "      <td>...</td>\n",
       "      <td>6</td>\n",
       "      <td>200</td>\n",
       "      <td>111</td>\n",
       "      <td>74</td>\n",
       "      <td>42</td>\n",
       "      <td>30.5</td>\n",
       "      <td>17.0</td>\n",
       "      <td>3470</td>\n",
       "      <td>USA</td>\n",
       "      <td>Buick LeSabre</td>\n",
       "    </tr>\n",
       "  </tbody>\n",
       "</table>\n",
       "<p>7 rows × 28 columns</p>\n",
       "</div>"
      ],
      "text/plain": [
       "   id Manufacturer    Model     Type  Min.Price  Price  Max.Price  MPG.city  \\\n",
       "0   1        Acura  Integra    Small       12.9   15.9       18.8        25   \n",
       "1   2        Acura   Legend  Midsize       29.2   33.9       38.7        18   \n",
       "2   3         Audi       90  Compact       25.9   29.1       32.3        20   \n",
       "3   4         Audi      100  Midsize       30.8   37.7       44.6        19   \n",
       "4   5          BMW     535i  Midsize       23.7   30.0       36.2        22   \n",
       "5   6        Buick  Century  Midsize       14.2   15.7       17.3        22   \n",
       "6   7        Buick  LeSabre    Large       19.9   20.8       21.7        19   \n",
       "\n",
       "   MPG.highway             AirBags  ... Passengers Length  Wheelbase  Width  \\\n",
       "0           31                None  ...          5    177        102     68   \n",
       "1           25  Driver & Passenger  ...          5    195        115     71   \n",
       "2           26         Driver only  ...          5    180        102     67   \n",
       "3           26                 NaN  ...          6    193        106     70   \n",
       "4           30         Driver only  ...          4    186        109     69   \n",
       "5           31         Driver only  ...          6    189        105     69   \n",
       "6           28         Driver only  ...          6    200        111     74   \n",
       "\n",
       "   Turn.circle  Rear.seat.room Luggage.room  Weight   Origin           Make  \n",
       "0           37            26.5         11.0    2705  non-USA  Acura Integra  \n",
       "1           38            30.0         15.0    3560  non-USA   Acura Legend  \n",
       "2           37            28.0         14.0    3375  non-USA        Audi 90  \n",
       "3           37            31.0         17.0    3405  non-USA       Audi 100  \n",
       "4           39            27.0         13.0    3640  non-USA       BMW 535i  \n",
       "5           41            28.0         16.0    2880      USA  Buick Century  \n",
       "6           42            30.5         17.0    3470      USA  Buick LeSabre  \n",
       "\n",
       "[7 rows x 28 columns]"
      ]
     },
     "execution_count": 2,
     "metadata": {},
     "output_type": "execute_result"
    }
   ],
   "source": [
    "A = pd.read_csv(\"C:/Users/JOHN/Downloads/Cars93.csv\")\n",
    "A.head(7)"
   ]
  },
  {
   "cell_type": "code",
   "execution_count": 3,
   "id": "92bc4994",
   "metadata": {},
   "outputs": [],
   "source": [
    "A.columns = ['id', 'Manufacturer', 'Model', 'Type', 'MinPrice', 'Price',\n",
    "       'MaxPrice', 'MPGcity', 'MPGhighway', 'AirBags', 'DriveTrain',\n",
    "       'Cylinders', 'EngineSize', 'Horsepower', 'RPM', 'Revpermile',\n",
    "       'Mantransavail', 'Fueltankcapacity', 'Passengers', 'Length',\n",
    "       'Wheelbase', 'Width', 'Turncircle', 'Rearseatroom', 'Luggageroom',\n",
    "       'Weight', 'Origin', 'Make']"
   ]
  },
  {
   "cell_type": "code",
   "execution_count": 4,
   "id": "482ca67e",
   "metadata": {},
   "outputs": [
    {
     "data": {
      "text/plain": [
       "(93, 28)"
      ]
     },
     "execution_count": 4,
     "metadata": {},
     "output_type": "execute_result"
    }
   ],
   "source": [
    "A.shape"
   ]
  },
  {
   "cell_type": "markdown",
   "id": "8abaf195",
   "metadata": {},
   "source": [
    "# Drop Unneccessary columns which has no Statistical importance or contains uniques values"
   ]
  },
  {
   "cell_type": "code",
   "execution_count": 5,
   "id": "0c9f10be",
   "metadata": {},
   "outputs": [],
   "source": [
    "A = A.drop(labels=[\"id\",\"Make\",\"Model\",\"Manufacturer\"],axis=1)\n",
    "# id,Make,Model,Manufacturer contains a lot of unique values that's why we will drop them"
   ]
  },
  {
   "cell_type": "markdown",
   "id": "b2e87ee2",
   "metadata": {},
   "source": [
    "# Treat with missing data"
   ]
  },
  {
   "cell_type": "code",
   "execution_count": 6,
   "id": "eff232ff",
   "metadata": {},
   "outputs": [
    {
     "data": {
      "text/plain": [
       "Type                 0\n",
       "MinPrice             0\n",
       "Price                0\n",
       "MaxPrice             0\n",
       "MPGcity              0\n",
       "MPGhighway           0\n",
       "AirBags              4\n",
       "DriveTrain           0\n",
       "Cylinders            0\n",
       "EngineSize           0\n",
       "Horsepower           0\n",
       "RPM                  0\n",
       "Revpermile           0\n",
       "Mantransavail        0\n",
       "Fueltankcapacity     0\n",
       "Passengers           0\n",
       "Length               0\n",
       "Wheelbase            0\n",
       "Width                0\n",
       "Turncircle           0\n",
       "Rearseatroom         2\n",
       "Luggageroom         11\n",
       "Weight               0\n",
       "Origin               0\n",
       "dtype: int64"
      ]
     },
     "execution_count": 6,
     "metadata": {},
     "output_type": "execute_result"
    }
   ],
   "source": [
    "A.isna().sum()"
   ]
  },
  {
   "cell_type": "code",
   "execution_count": 7,
   "id": "6d1c0cb9",
   "metadata": {},
   "outputs": [],
   "source": [
    "for i in A.columns:\n",
    "    if(A[i].dtypes == 'object'):\n",
    "        x = A[i].mode()[0]\n",
    "        A[i] = A[i].fillna(x) # categorical columns's missing data replace with mode of categorical column.\n",
    "    else:\n",
    "        x = A[i].mean()\n",
    "        A[i] = A[i].fillna(x)# continuous columns's missing data replace with mean of continuous column."
   ]
  },
  {
   "cell_type": "code",
   "execution_count": 8,
   "id": "04897a8f",
   "metadata": {},
   "outputs": [
    {
     "data": {
      "text/plain": [
       "Type                0\n",
       "MinPrice            0\n",
       "Price               0\n",
       "MaxPrice            0\n",
       "MPGcity             0\n",
       "MPGhighway          0\n",
       "AirBags             0\n",
       "DriveTrain          0\n",
       "Cylinders           0\n",
       "EngineSize          0\n",
       "Horsepower          0\n",
       "RPM                 0\n",
       "Revpermile          0\n",
       "Mantransavail       0\n",
       "Fueltankcapacity    0\n",
       "Passengers          0\n",
       "Length              0\n",
       "Wheelbase           0\n",
       "Width               0\n",
       "Turncircle          0\n",
       "Rearseatroom        0\n",
       "Luggageroom         0\n",
       "Weight              0\n",
       "Origin              0\n",
       "dtype: int64"
      ]
     },
     "execution_count": 8,
     "metadata": {},
     "output_type": "execute_result"
    }
   ],
   "source": [
    "A.isna().sum() # missing data has gone"
   ]
  },
  {
   "cell_type": "markdown",
   "id": "68ef3289",
   "metadata": {},
   "source": [
    "# define Temporary X columns"
   ]
  },
  {
   "cell_type": "code",
   "execution_count": 9,
   "id": "af4f9ce5",
   "metadata": {},
   "outputs": [],
   "source": [
    "Y = A[[\"Price\"]]\n",
    "X = A.drop(labels=[\"Price\"],axis=1)"
   ]
  },
  {
   "cell_type": "markdown",
   "id": "a231d9e8",
   "metadata": {},
   "source": [
    "# Exploretary data analysis (EDA)"
   ]
  },
  {
   "cell_type": "code",
   "execution_count": 10,
   "id": "a76299dc",
   "metadata": {
    "scrolled": false
   },
   "outputs": [
    {
     "data": {
      "image/png": "[encoded data removed]",
      "text/plain": [
       "<Figure size 432x288 with 1 Axes>"
      ]
     },
     "metadata": {
      "needs_background": "light"
     },
     "output_type": "display_data"
    },
    {
     "data": {
      "image/png": "[encoded data removed]",
      "text/plain": [
       "<Figure size 432x288 with 1 Axes>"
      ]
     },
     "metadata": {
      "needs_background": "light"
     },
     "output_type": "display_data"
    },
    {
     "data": {
      "image/png": "[encoded data removed]",
      "text/plain": [
       "<Figure size 432x288 with 1 Axes>"
      ]
     },
     "metadata": {
      "needs_background": "light"
     },
     "output_type": "display_data"
    },
    {
     "data": {
      "image/png": "[encoded data removed]",
      "text/plain": [
       "<Figure size 432x288 with 1 Axes>"
      ]
     },
     "metadata": {
      "needs_background": "light"
     },
     "output_type": "display_data"
    },
    {
     "data": {
      "image/png": "[encoded data removed]",
      "text/plain": [
       "<Figure size 432x288 with 1 Axes>"
      ]
     },
     "metadata": {
      "needs_background": "light"
     },
     "output_type": "display_data"
    },
    {
     "data": {
      "image/png": "[encoded data removed]",
      "text/plain": [
       "<Figure size 432x288 with 1 Axes>"
      ]
     },
     "metadata": {
      "needs_background": "light"
     },
     "output_type": "display_data"
    },
    {
     "data": {
      "image/png": "[encoded data removed]",
      "text/plain": [
       "<Figure size 432x288 with 1 Axes>"
      ]
     },
     "metadata": {
      "needs_background": "light"
     },
     "output_type": "display_data"
    },
    {
     "data": {
      "image/png": "[encoded data removed]",
      "text/plain": [
       "<Figure size 432x288 with 1 Axes>"
      ]
     },
     "metadata": {
      "needs_background": "light"
     },
     "output_type": "display_data"
    },
    {
     "data": {
      "image/png": "[encoded data removed]",
      "text/plain": [
       "<Figure size 432x288 with 1 Axes>"
      ]
     },
     "metadata": {
      "needs_background": "light"
     },
     "output_type": "display_data"
    },
    {
     "data": {
      "image/png": "[encoded data removed]",
      "text/plain": [
       "<Figure size 432x288 with 1 Axes>"
      ]
     },
     "metadata": {
      "needs_background": "light"
     },
     "output_type": "display_data"
    },
    {
     "data": {
      "image/png": "[encoded data removed]",
      "text/plain": [
       "<Figure size 432x288 with 1 Axes>"
      ]
     },
     "metadata": {
      "needs_background": "light"
     },
     "output_type": "display_data"
    },
    {
     "data": {
      "image/png": "[encoded data removed]",
      "text/plain": [
       "<Figure size 432x288 with 1 Axes>"
      ]
     },
     "metadata": {
      "needs_background": "light"
     },
     "output_type": "display_data"
    },
    {
     "data": {
      "image/png": "[encoded data removed]",
      "text/plain": [
       "<Figure size 432x288 with 1 Axes>"
      ]
     },
     "metadata": {
      "needs_background": "light"
     },
     "output_type": "display_data"
    },
    {
     "data": {
      "image/png": "[encoded data removed]",
      "text/plain": [
       "<Figure size 432x288 with 1 Axes>"
      ]
     },
     "metadata": {
      "needs_background": "light"
     },
     "output_type": "display_data"
    },
    {
     "data": {
      "image/png": "[encoded data removed]",
      "text/plain": [
       "<Figure size 432x288 with 1 Axes>"
      ]
     },
     "metadata": {
      "needs_background": "light"
     },
     "output_type": "display_data"
    },
    {
     "data": {
      "image/png": "[encoded data removed]",
      "text/plain": [
       "<Figure size 432x288 with 1 Axes>"
      ]
     },
     "metadata": {
      "needs_background": "light"
     },
     "output_type": "display_data"
    },
    {
     "data": {
      "image/png": "[encoded data removed]",
      "text/plain": [
       "<Figure size 432x288 with 1 Axes>"
      ]
     },
     "metadata": {
      "needs_background": "light"
     },
     "output_type": "display_data"
    },
    {
     "data": {
      "image/png": "[encoded data removed]",
      "text/plain": [
       "<Figure size 432x288 with 1 Axes>"
      ]
     },
     "metadata": {
      "needs_background": "light"
     },
     "output_type": "display_data"
    },
    {
     "data": {
      "image/png": "[encoded data removed]",
      "text/plain": [
       "<Figure size 432x288 with 1 Axes>"
      ]
     },
     "metadata": {
      "needs_background": "light"
     },
     "output_type": "display_data"
    },
    {
     "data": {
      "image/png": "[encoded data removed]",
      "text/plain": [
       "<Figure size 432x288 with 1 Axes>"
      ]
     },
     "metadata": {
      "needs_background": "light"
     },
     "output_type": "display_data"
    },
    {
     "data": {
      "image/png": "[encoded data removed]",
      "text/plain": [
       "<Figure size 432x288 with 1 Axes>"
      ]
     },
     "metadata": {
      "needs_background": "light"
     },
     "output_type": "display_data"
    },
    {
     "data": {
      "image/png": "[encoded data removed]",
      "text/plain": [
       "<Figure size 432x288 with 1 Axes>"
      ]
     },
     "metadata": {
      "needs_background": "light"
     },
     "output_type": "display_data"
    },
    {
     "data": {
      "image/png": "[encoded data removed]",
      "text/plain": [
       "<Figure size 432x288 with 1 Axes>"
      ]
     },
     "metadata": {
      "needs_background": "light"
     },
     "output_type": "display_data"
    }
   ],
   "source": [
    "for i in X.columns:\n",
    "    if(X[i].dtypes == 'object'):\n",
    "        sb.boxplot(X[i],Y.Price)\n",
    "        plt.show()\n",
    "    else:\n",
    "        sb.scatterplot(Y.Price,X[i])\n",
    "        plt.show()"
   ]
  },
  {
   "cell_type": "code",
   "execution_count": null,
   "id": "760013d3",
   "metadata": {},
   "outputs": [],
   "source": []
  },
  {
   "cell_type": "markdown",
   "id": "40926115",
   "metadata": {},
   "source": [
    "check for skew"
   ]
  },
  {
   "cell_type": "code",
   "execution_count": 11,
   "id": "a9c93a1d",
   "metadata": {},
   "outputs": [
    {
     "data": {
      "text/plain": [
       "MinPrice            1.182989\n",
       "Price               1.533082\n",
       "MaxPrice            2.033859\n",
       "MPGcity             1.704430\n",
       "MPGhighway          1.229897\n",
       "EngineSize          0.859418\n",
       "Horsepower          0.951728\n",
       "RPM                -0.258533\n",
       "Revpermile          0.281546\n",
       "Fueltankcapacity    0.108146\n",
       "Passengers          0.062517\n",
       "Length             -0.090095\n",
       "Wheelbase           0.113727\n",
       "Width               0.264027\n",
       "Turncircle         -0.133569\n",
       "Rearseatroom        0.079086\n",
       "Luggageroom         0.243936\n",
       "Weight             -0.143669\n",
       "dtype: float64"
      ]
     },
     "execution_count": 11,
     "metadata": {},
     "output_type": "execute_result"
    }
   ],
   "source": [
    "A.skew()"
   ]
  },
  {
   "cell_type": "code",
   "execution_count": 12,
   "id": "02640830",
   "metadata": {},
   "outputs": [
    {
     "data": {
      "text/plain": [
       "MinPrice            0.168044\n",
       "Price               0.427280\n",
       "MaxPrice            0.709935\n",
       "MPGcity             0.533231\n",
       "MPGhighway          0.206930\n",
       "EngineSize         -0.151499\n",
       "Horsepower         -0.049476\n",
       "RPM                      NaN\n",
       "Revpermile         -1.267459\n",
       "Fueltankcapacity   -2.224271\n",
       "Passengers         -2.772319\n",
       "Length                   NaN\n",
       "Wheelbase          -2.173956\n",
       "Width              -1.331702\n",
       "Turncircle               NaN\n",
       "Rearseatroom       -2.537219\n",
       "Luggageroom        -1.410849\n",
       "Weight                   NaN\n",
       "dtype: float64"
      ]
     },
     "execution_count": 12,
     "metadata": {},
     "output_type": "execute_result"
    }
   ],
   "source": [
    "np.log(A.skew())"
   ]
  },
  {
   "cell_type": "markdown",
   "id": "f2b62b8c",
   "metadata": {},
   "source": [
    "# Features selection "
   ]
  },
  {
   "cell_type": "code",
   "execution_count": 13,
   "id": "52f8c100",
   "metadata": {},
   "outputs": [],
   "source": [
    "Y = A[[\"Price\"]]\n",
    "Y.head()\n",
    "X = A.drop([\"Price\"],axis=1)"
   ]
  },
  {
   "cell_type": "code",
   "execution_count": 14,
   "id": "e445b8ea",
   "metadata": {},
   "outputs": [
    {
     "data": {
      "text/html": [
       "<div>\n",
       "<style scoped>\n",
       "    .dataframe tbody tr th:only-of-type {\n",
       "        vertical-align: middle;\n",
       "    }\n",
       "\n",
       "    .dataframe tbody tr th {\n",
       "        vertical-align: top;\n",
       "    }\n",
       "\n",
       "    .dataframe thead th {\n",
       "        text-align: right;\n",
       "    }\n",
       "</style>\n",
       "<table border=\"1\" class=\"dataframe\">\n",
       "  <thead>\n",
       "    <tr style=\"text-align: right;\">\n",
       "      <th></th>\n",
       "      <th>Price</th>\n",
       "    </tr>\n",
       "  </thead>\n",
       "  <tbody>\n",
       "    <tr>\n",
       "      <th>Price</th>\n",
       "      <td>1.000000</td>\n",
       "    </tr>\n",
       "    <tr>\n",
       "      <th>MaxPrice</th>\n",
       "      <td>0.981580</td>\n",
       "    </tr>\n",
       "    <tr>\n",
       "      <th>MinPrice</th>\n",
       "      <td>0.970601</td>\n",
       "    </tr>\n",
       "    <tr>\n",
       "      <th>Horsepower</th>\n",
       "      <td>0.788218</td>\n",
       "    </tr>\n",
       "    <tr>\n",
       "      <th>Weight</th>\n",
       "      <td>0.647179</td>\n",
       "    </tr>\n",
       "    <tr>\n",
       "      <th>Fueltankcapacity</th>\n",
       "      <td>0.619480</td>\n",
       "    </tr>\n",
       "    <tr>\n",
       "      <th>EngineSize</th>\n",
       "      <td>0.597425</td>\n",
       "    </tr>\n",
       "    <tr>\n",
       "      <th>Length</th>\n",
       "      <td>0.503628</td>\n",
       "    </tr>\n",
       "    <tr>\n",
       "      <th>Wheelbase</th>\n",
       "      <td>0.500864</td>\n",
       "    </tr>\n",
       "    <tr>\n",
       "      <th>Width</th>\n",
       "      <td>0.456028</td>\n",
       "    </tr>\n",
       "    <tr>\n",
       "      <th>Turncircle</th>\n",
       "      <td>0.392590</td>\n",
       "    </tr>\n",
       "    <tr>\n",
       "      <th>Luggageroom</th>\n",
       "      <td>0.354635</td>\n",
       "    </tr>\n",
       "    <tr>\n",
       "      <th>Rearseatroom</th>\n",
       "      <td>0.301888</td>\n",
       "    </tr>\n",
       "    <tr>\n",
       "      <th>Passengers</th>\n",
       "      <td>0.057860</td>\n",
       "    </tr>\n",
       "    <tr>\n",
       "      <th>RPM</th>\n",
       "      <td>-0.004955</td>\n",
       "    </tr>\n",
       "    <tr>\n",
       "      <th>Revpermile</th>\n",
       "      <td>-0.426395</td>\n",
       "    </tr>\n",
       "    <tr>\n",
       "      <th>MPGhighway</th>\n",
       "      <td>-0.560680</td>\n",
       "    </tr>\n",
       "    <tr>\n",
       "      <th>MPGcity</th>\n",
       "      <td>-0.594562</td>\n",
       "    </tr>\n",
       "  </tbody>\n",
       "</table>\n",
       "</div>"
      ],
      "text/plain": [
       "                     Price\n",
       "Price             1.000000\n",
       "MaxPrice          0.981580\n",
       "MinPrice          0.970601\n",
       "Horsepower        0.788218\n",
       "Weight            0.647179\n",
       "Fueltankcapacity  0.619480\n",
       "EngineSize        0.597425\n",
       "Length            0.503628\n",
       "Wheelbase         0.500864\n",
       "Width             0.456028\n",
       "Turncircle        0.392590\n",
       "Luggageroom       0.354635\n",
       "Rearseatroom      0.301888\n",
       "Passengers        0.057860\n",
       "RPM              -0.004955\n",
       "Revpermile       -0.426395\n",
       "MPGhighway       -0.560680\n",
       "MPGcity          -0.594562"
      ]
     },
     "execution_count": 14,
     "metadata": {},
     "output_type": "execute_result"
    }
   ],
   "source": [
    "A.corr()[[\"Price\"]].sort_values(by = [\"Price\"],ascending=False)"
   ]
  },
  {
   "cell_type": "code",
   "execution_count": 15,
   "id": "887a388c",
   "metadata": {},
   "outputs": [],
   "source": [
    "imp_con_columns = ['MaxPrice', 'MinPrice', 'Horsepower', 'Weight', 'Fueltankcapacity',\n",
    "       'EngineSize', 'MPGhighway', 'MPGcity']"
   ]
  },
  {
   "cell_type": "code",
   "execution_count": 16,
   "id": "04958be6",
   "metadata": {},
   "outputs": [
    {
     "data": {
      "text/plain": [
       "['MaxPrice',\n",
       " 'MinPrice',\n",
       " 'Horsepower',\n",
       " 'Weight',\n",
       " 'Fueltankcapacity',\n",
       " 'EngineSize',\n",
       " 'MPGhighway',\n",
       " 'MPGcity']"
      ]
     },
     "execution_count": 16,
     "metadata": {},
     "output_type": "execute_result"
    }
   ],
   "source": [
    "imp_con_columns #important continuous columns"
   ]
  },
  {
   "cell_type": "markdown",
   "id": "01096f32",
   "metadata": {},
   "source": [
    "# Anova Test"
   ]
  },
  {
   "cell_type": "code",
   "execution_count": 17,
   "id": "fcf39b29",
   "metadata": {},
   "outputs": [],
   "source": [
    "cat = []\n",
    "con = []\n",
    "for i in A.columns:\n",
    "    if(A[i].dtypes == 'object'):\n",
    "        cat.append(i)\n",
    "    else:\n",
    "        con.append(i)\n"
   ]
  },
  {
   "cell_type": "code",
   "execution_count": 18,
   "id": "ed373748",
   "metadata": {},
   "outputs": [],
   "source": [
    "def ANOVA(con,cat,df) :\n",
    "    from pandas import DataFrame\n",
    "    from statsmodels.formula.api import ols\n",
    "    from statsmodels.stats.anova import anova_lm\n",
    "    rel = con + \" ~ \" + cat\n",
    "    model = ols(rel,df).fit()\n",
    "    anova_result = anova_lm(model)\n",
    "    a = anova_result[[\"PR(>F)\"]].values[0][0]\n",
    "    return round(a,4)\n"
   ]
  },
  {
   "cell_type": "code",
   "execution_count": 19,
   "id": "df939857",
   "metadata": {},
   "outputs": [
    {
     "name": "stdout",
     "output_type": "stream",
     "text": [
      "Price vs Type  =  0.0\n",
      "Price vs AirBags  =  0.0\n",
      "Price vs DriveTrain  =  0.0\n",
      "Price vs Cylinders  =  0.0\n",
      "Price vs Mantransavail  =  0.0014\n"
     ]
    }
   ],
   "source": [
    "imp_cat_columns = []\n",
    "for i in X[cat].columns:\n",
    "    x =  ANOVA(\"Price\",i,A)\n",
    "    if(x < 0.05):\n",
    "        imp_cat_columns.append(i)\n",
    "        print(\"Price vs\",i,\" = \",x)"
   ]
  },
  {
   "cell_type": "code",
   "execution_count": 20,
   "id": "f5bf6d46",
   "metadata": {},
   "outputs": [
    {
     "data": {
      "text/plain": [
       "['Type', 'AirBags', 'DriveTrain', 'Cylinders', 'Mantransavail']"
      ]
     },
     "execution_count": 20,
     "metadata": {},
     "output_type": "execute_result"
    }
   ],
   "source": [
    "imp_cat_columns"
   ]
  },
  {
   "cell_type": "code",
   "execution_count": 21,
   "id": "8e072cfb",
   "metadata": {},
   "outputs": [
    {
     "data": {
      "text/plain": [
       "['MaxPrice',\n",
       " 'MinPrice',\n",
       " 'Horsepower',\n",
       " 'Weight',\n",
       " 'Fueltankcapacity',\n",
       " 'EngineSize',\n",
       " 'MPGhighway',\n",
       " 'MPGcity']"
      ]
     },
     "execution_count": 21,
     "metadata": {},
     "output_type": "execute_result"
    }
   ],
   "source": [
    "imp_con_columns"
   ]
  },
  {
   "cell_type": "code",
   "execution_count": 22,
   "id": "3cf84ff4",
   "metadata": {},
   "outputs": [
    {
     "data": {
      "text/html": [
       "<div>\n",
       "<style scoped>\n",
       "    .dataframe tbody tr th:only-of-type {\n",
       "        vertical-align: middle;\n",
       "    }\n",
       "\n",
       "    .dataframe tbody tr th {\n",
       "        vertical-align: top;\n",
       "    }\n",
       "\n",
       "    .dataframe thead th {\n",
       "        text-align: right;\n",
       "    }\n",
       "</style>\n",
       "<table border=\"1\" class=\"dataframe\">\n",
       "  <thead>\n",
       "    <tr style=\"text-align: right;\">\n",
       "      <th></th>\n",
       "      <th>MaxPrice</th>\n",
       "      <th>MinPrice</th>\n",
       "      <th>Horsepower</th>\n",
       "      <th>Weight</th>\n",
       "      <th>Fueltankcapacity</th>\n",
       "      <th>EngineSize</th>\n",
       "      <th>MPGhighway</th>\n",
       "      <th>MPGcity</th>\n",
       "    </tr>\n",
       "  </thead>\n",
       "  <tbody>\n",
       "    <tr>\n",
       "      <th>0</th>\n",
       "      <td>18.8</td>\n",
       "      <td>12.9</td>\n",
       "      <td>140</td>\n",
       "      <td>2705</td>\n",
       "      <td>13.2</td>\n",
       "      <td>1.8</td>\n",
       "      <td>31</td>\n",
       "      <td>25</td>\n",
       "    </tr>\n",
       "    <tr>\n",
       "      <th>1</th>\n",
       "      <td>38.7</td>\n",
       "      <td>29.2</td>\n",
       "      <td>200</td>\n",
       "      <td>3560</td>\n",
       "      <td>18.0</td>\n",
       "      <td>3.2</td>\n",
       "      <td>25</td>\n",
       "      <td>18</td>\n",
       "    </tr>\n",
       "    <tr>\n",
       "      <th>2</th>\n",
       "      <td>32.3</td>\n",
       "      <td>25.9</td>\n",
       "      <td>172</td>\n",
       "      <td>3375</td>\n",
       "      <td>16.9</td>\n",
       "      <td>2.8</td>\n",
       "      <td>26</td>\n",
       "      <td>20</td>\n",
       "    </tr>\n",
       "    <tr>\n",
       "      <th>3</th>\n",
       "      <td>44.6</td>\n",
       "      <td>30.8</td>\n",
       "      <td>172</td>\n",
       "      <td>3405</td>\n",
       "      <td>21.1</td>\n",
       "      <td>2.8</td>\n",
       "      <td>26</td>\n",
       "      <td>19</td>\n",
       "    </tr>\n",
       "    <tr>\n",
       "      <th>4</th>\n",
       "      <td>36.2</td>\n",
       "      <td>23.7</td>\n",
       "      <td>208</td>\n",
       "      <td>3640</td>\n",
       "      <td>21.1</td>\n",
       "      <td>3.5</td>\n",
       "      <td>30</td>\n",
       "      <td>22</td>\n",
       "    </tr>\n",
       "    <tr>\n",
       "      <th>...</th>\n",
       "      <td>...</td>\n",
       "      <td>...</td>\n",
       "      <td>...</td>\n",
       "      <td>...</td>\n",
       "      <td>...</td>\n",
       "      <td>...</td>\n",
       "      <td>...</td>\n",
       "      <td>...</td>\n",
       "    </tr>\n",
       "    <tr>\n",
       "      <th>88</th>\n",
       "      <td>22.7</td>\n",
       "      <td>16.6</td>\n",
       "      <td>109</td>\n",
       "      <td>3960</td>\n",
       "      <td>21.1</td>\n",
       "      <td>2.5</td>\n",
       "      <td>21</td>\n",
       "      <td>17</td>\n",
       "    </tr>\n",
       "    <tr>\n",
       "      <th>89</th>\n",
       "      <td>22.4</td>\n",
       "      <td>17.6</td>\n",
       "      <td>134</td>\n",
       "      <td>2985</td>\n",
       "      <td>18.5</td>\n",
       "      <td>2.0</td>\n",
       "      <td>30</td>\n",
       "      <td>21</td>\n",
       "    </tr>\n",
       "    <tr>\n",
       "      <th>90</th>\n",
       "      <td>23.7</td>\n",
       "      <td>22.9</td>\n",
       "      <td>178</td>\n",
       "      <td>2810</td>\n",
       "      <td>18.5</td>\n",
       "      <td>2.8</td>\n",
       "      <td>25</td>\n",
       "      <td>18</td>\n",
       "    </tr>\n",
       "    <tr>\n",
       "      <th>91</th>\n",
       "      <td>23.5</td>\n",
       "      <td>21.8</td>\n",
       "      <td>114</td>\n",
       "      <td>2985</td>\n",
       "      <td>15.8</td>\n",
       "      <td>2.3</td>\n",
       "      <td>28</td>\n",
       "      <td>21</td>\n",
       "    </tr>\n",
       "    <tr>\n",
       "      <th>92</th>\n",
       "      <td>28.5</td>\n",
       "      <td>24.8</td>\n",
       "      <td>168</td>\n",
       "      <td>3245</td>\n",
       "      <td>19.3</td>\n",
       "      <td>2.4</td>\n",
       "      <td>28</td>\n",
       "      <td>20</td>\n",
       "    </tr>\n",
       "  </tbody>\n",
       "</table>\n",
       "<p>93 rows × 8 columns</p>\n",
       "</div>"
      ],
      "text/plain": [
       "    MaxPrice  MinPrice  Horsepower  Weight  Fueltankcapacity  EngineSize  \\\n",
       "0       18.8      12.9         140    2705              13.2         1.8   \n",
       "1       38.7      29.2         200    3560              18.0         3.2   \n",
       "2       32.3      25.9         172    3375              16.9         2.8   \n",
       "3       44.6      30.8         172    3405              21.1         2.8   \n",
       "4       36.2      23.7         208    3640              21.1         3.5   \n",
       "..       ...       ...         ...     ...               ...         ...   \n",
       "88      22.7      16.6         109    3960              21.1         2.5   \n",
       "89      22.4      17.6         134    2985              18.5         2.0   \n",
       "90      23.7      22.9         178    2810              18.5         2.8   \n",
       "91      23.5      21.8         114    2985              15.8         2.3   \n",
       "92      28.5      24.8         168    3245              19.3         2.4   \n",
       "\n",
       "    MPGhighway  MPGcity  \n",
       "0           31       25  \n",
       "1           25       18  \n",
       "2           26       20  \n",
       "3           26       19  \n",
       "4           30       22  \n",
       "..         ...      ...  \n",
       "88          21       17  \n",
       "89          30       21  \n",
       "90          25       18  \n",
       "91          28       21  \n",
       "92          28       20  \n",
       "\n",
       "[93 rows x 8 columns]"
      ]
     },
     "execution_count": 22,
     "metadata": {},
     "output_type": "execute_result"
    }
   ],
   "source": [
    "X[imp_con_columns] #data is not Standarize format , we need to Standerize the data"
   ]
  },
  {
   "cell_type": "markdown",
   "id": "6b2aa036",
   "metadata": {},
   "source": [
    "# Preprocessing"
   ]
  },
  {
   "cell_type": "code",
   "execution_count": 23,
   "id": "1e992a92",
   "metadata": {},
   "outputs": [],
   "source": [
    "from sklearn.preprocessing import StandardScaler\n",
    "ss = StandardScaler()\n",
    "x1 = pd.DataFrame(ss.fit_transform(X[imp_con_columns]),columns=imp_con_columns)\n",
    "x2 = pd.get_dummies(X[imp_cat_columns])"
   ]
  },
  {
   "cell_type": "markdown",
   "id": "83f37a61",
   "metadata": {},
   "source": [
    "# Removing Outliers"
   ]
  },
  {
   "cell_type": "code",
   "execution_count": 24,
   "id": "0f97fa98",
   "metadata": {},
   "outputs": [],
   "source": [
    "T = []\n",
    "for i in x1.columns:\n",
    "    T.extend(x1[(x1[i] > 3) | ( x1[i] < -3)].index)"
   ]
  },
  {
   "cell_type": "code",
   "execution_count": 25,
   "id": "ff8ed540",
   "metadata": {},
   "outputs": [
    {
     "data": {
      "text/plain": [
       "[58, 47, 58, 16, 38, 41, 38, 41]"
      ]
     },
     "execution_count": 25,
     "metadata": {},
     "output_type": "execute_result"
    }
   ],
   "source": [
    "T"
   ]
  },
  {
   "cell_type": "code",
   "execution_count": 26,
   "id": "ff1243cf",
   "metadata": {},
   "outputs": [],
   "source": [
    "outliers = np.unique(T)\n",
    "x1 = x1.drop(index=outliers,axis=0)\n",
    "Y = Y.drop(index=outliers,axis=0)"
   ]
  },
  {
   "cell_type": "markdown",
   "id": "3edf1388",
   "metadata": {},
   "source": [
    "# This is new and Updated Independent Variable"
   ]
  },
  {
   "cell_type": "code",
   "execution_count": 27,
   "id": "b4615723",
   "metadata": {},
   "outputs": [
    {
     "name": "stdout",
     "output_type": "stream",
     "text": [
      "(88, 28) \n",
      " (88, 1)\n"
     ]
    }
   ],
   "source": [
    "Xnew = x1.join(x2)\n",
    "print(Xnew.shape, \"\\n\",Y.shape)"
   ]
  },
  {
   "cell_type": "markdown",
   "id": "895ca6c4",
   "metadata": {},
   "source": [
    "# Divide data into training and testing set"
   ]
  },
  {
   "cell_type": "code",
   "execution_count": 28,
   "id": "35c4b0f5",
   "metadata": {},
   "outputs": [],
   "source": [
    "from sklearn.model_selection import train_test_split\n",
    "xtrain,xtest,ytrain,ytest = train_test_split(Xnew,Y,test_size=0.2,random_state=31)"
   ]
  },
  {
   "cell_type": "markdown",
   "id": "ef1ab799",
   "metadata": {},
   "source": [
    "# Create a Linear Regression Model"
   ]
  },
  {
   "cell_type": "code",
   "execution_count": 29,
   "id": "9312dee0",
   "metadata": {},
   "outputs": [],
   "source": [
    "from sklearn.linear_model import LinearRegression\n",
    "lr = LinearRegression()\n",
    "model = lr.fit(xtrain,ytrain)\n",
    "train_pred = model.predict(xtrain)\n",
    "test_pred = model.predict(xtest)"
   ]
  },
  {
   "cell_type": "code",
   "execution_count": 30,
   "id": "3e717c29",
   "metadata": {},
   "outputs": [
    {
     "name": "stdout",
     "output_type": "stream",
     "text": [
      "trainning error:  0.0161 \n",
      "\n",
      " testing error:  0.0431\n"
     ]
    }
   ],
   "source": [
    "from sklearn.metrics import mean_absolute_error\n",
    "train_error = round(mean_absolute_error(ytrain,train_pred),4)\n",
    "test_error = round(mean_absolute_error(ytest,test_pred),4)\n",
    "print(\"trainning error: \",train_error,\"\\n\\n\",\"testing error: \", test_error)"
   ]
  },
  {
   "cell_type": "code",
   "execution_count": 31,
   "id": "44945a97",
   "metadata": {},
   "outputs": [],
   "source": [
    "# the model is performing slightly overfiting that means this is very good model"
   ]
  },
  {
   "cell_type": "code",
   "execution_count": 32,
   "id": "db9564bd",
   "metadata": {},
   "outputs": [
    {
     "data": {
      "text/plain": [
       "0.9999528111040739"
      ]
     },
     "execution_count": 32,
     "metadata": {},
     "output_type": "execute_result"
    }
   ],
   "source": [
    "from sklearn.metrics import explained_variance_score\n",
    "explained_variance_score(ytest,test_pred)"
   ]
  },
  {
   "cell_type": "code",
   "execution_count": 33,
   "id": "b670d0b8",
   "metadata": {},
   "outputs": [],
   "source": [
    "# Expalined variance is very good, That means the model has more reliable."
   ]
  }
 ],
 "metadata": {
  "kernelspec": {
   "display_name": "Python 3",
   "language": "python",
   "name": "python3"
  },
  "language_info": {
   "codemirror_mode": {
    "name": "ipython",
    "version": 3
   },
   "file_extension": ".py",
   "mimetype": "text/x-python",
   "name": "python",
   "nbconvert_exporter": "python",
   "pygments_lexer": "ipython3",
   "version": "3.8.8"
  }
 },
 "nbformat": 4,
 "nbformat_minor": 5
}
